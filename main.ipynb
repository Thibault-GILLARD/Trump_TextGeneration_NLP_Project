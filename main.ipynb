{
 "cells": [
  {
   "attachments": {},
   "cell_type": "markdown",
   "metadata": {},
   "source": [
    "# LSTM for Trump text generation"
   ]
  },
  {
   "attachments": {},
   "cell_type": "markdown",
   "metadata": {},
   "source": [
    "![alt text](https://miro.medium.com/v2/resize:fit:984/1*Mb_L_slY9rjMr8-IADHvwg.png)"
   ]
  },
  {
   "attachments": {},
   "cell_type": "markdown",
   "metadata": {},
   "source": [
    "Tensorflow will be used for the integration of the LSTM model."
   ]
  },
  {
   "attachments": {},
   "cell_type": "markdown",
   "metadata": {},
   "source": [
    "## Dataset:"
   ]
  },
  {
   "cell_type": "code",
   "execution_count": 3,
   "metadata": {},
   "outputs": [],
   "source": [
    "import os\n",
    "\n",
    "path = 'Trump Rally Speeches/'\n",
    "files = os.listdir(path)\n",
    "files = [path + file for file in files]\n",
    " \n",
    "dates = []\n",
    "locations = []\n",
    "years = []\n",
    "days = []\n",
    "months = []\n",
    "speeches_text = []\n",
    " \n",
    "month_ab = ['Jan', 'Feb', 'Mar', 'Apr', 'May', 'Jun', 'Jul', 'Aug', 'Sep','Oct', 'Nov', 'Dec']\n",
    "\n",
    "for file in files:\n",
    "    for month in month_ab:\n",
    "        if month in file:\n",
    "            locations.append(file[file.find('/')+1:file.find(month)])\n",
    "            break\n",
    "    for i, mont in enumerate(month_ab):\n",
    "        if month in file:\n",
    "            date = file[file.find(month):file.find('.txt')]\n",
    "            dates.append(date)\n",
    "            months.append(date[:3])\n",
    "            days.append(str(date[3]))\n",
    "            years.append(date[-4:])\n",
    "            break   \n",
    "        \n",
    "for file in files:\n",
    "    with open(file, 'r') as f:\n",
    "        speeches_text.append(f.read())     \n",
    "        \n",
    "import pandas as pd\n",
    " \n",
    "df = pd.DataFrame({'Speech':files, 'Date':dates, 'Location':locations, 'Year':years, 'Month':months, 'Day':days, 'Speech_Text':speeches_text})"
   ]
  },
  {
   "cell_type": "code",
   "execution_count": 4,
   "metadata": {},
   "outputs": [
    {
     "name": "stdout",
     "output_type": "stream",
     "text": [
      "thank thank thank vice president pence hes good guy weve done great job together merry christmas mic\n",
      "Thank you. Thank you. Thank you to Vice President Pence. He's a good guy. We've done a great job tog\n",
      "thank thank thank vice president pence hes good guy weve done great job together merry christmas mic\n"
     ]
    }
   ],
   "source": [
    "from preprocessing import preprocessing_pipline\n",
    "\n",
    "preprocessing = preprocessing_pipline(df['Speech_Text'])\n",
    "df['Speech_Text_prepro'] = preprocessing.preprocess_light()"
   ]
  },
  {
   "cell_type": "code",
   "execution_count": 5,
   "metadata": {},
   "outputs": [],
   "source": [
    "from sklearn.model_selection import train_test_split\n",
    "\n",
    "text_corpus = [word for speech in df['Speech_Text'].str.split() for word in speech]\n",
    "train_corpus, test_corpus = train_test_split(text_corpus, test_size=0.2, random_state=42)\n",
    "\n",
    "# Preprocess text \n",
    "text_corpus_prepro = [word for speech in df['Speech_Text_prepro'].str.split() for word in speech]\n",
    "train_corpus_prepro, test_corpus_prepro = train_test_split(text_corpus_prepro, test_size=0.2, random_state=42)"
   ]
  },
  {
   "cell_type": "code",
   "execution_count": null,
   "metadata": {},
   "outputs": [],
   "source": [
    "from keras.preprocessing.text import Tokenizer\n",
    "\n",
    "# Create a tokenizer and fit it on your text corpus\n",
    "tokenizer = Tokenizer()\n",
    "tokenizer.fit_on_texts(text_corpus)\n",
    "\n",
    "input = []\n",
    "output = []"
   ]
  },
  {
   "attachments": {},
   "cell_type": "markdown",
   "metadata": {},
   "source": [
    "## Model"
   ]
  },
  {
   "cell_type": "code",
   "execution_count": 9,
   "metadata": {},
   "outputs": [
    {
     "ename": "",
     "evalue": "",
     "output_type": "error",
     "traceback": [
      "\u001b[1;31mCanceled future for execute_request message before replies were done"
     ]
    },
    {
     "ename": "",
     "evalue": "",
     "output_type": "error",
     "traceback": [
      "\u001b[1;31mThe Kernel crashed while executing code in the the current cell or a previous cell. Please review the code in the cell(s) to identify a possible cause of the failure. Click <a href='https://aka.ms/vscodeJupyterKernelCrash'>here</a> for more info. View Jupyter <a href='command:jupyter.viewOutput'>log</a> for further details."
     ]
    }
   ],
   "source": [
    "# import for LSTM \n",
    "import tensorflow as tf\n",
    "import numpy as np\n",
    "from keras.layers import Embedding, LSTM, Dense\n",
    "\n",
    "class my_model_LSTM:\n",
    "    def __init__(self, n, text_corpus):\n",
    "        self.n = n \n",
    "        self.text_corpus = text_corpus\n",
    "        self.model = self.build_model()\n",
    "        \n",
    "    def build_model(self):\n",
    "        model = tf.keras.Sequential()\n",
    "        model.add(Embedding(len(self.text_corpus),self.n))\n",
    "        model.add(LSTM(units=self.n))\n",
    "        model.add(Dense(units=len(self.text_corpus), activation='softmax'))\n",
    "        model.compile(optimizer='adam', loss='sparse_categorical_crossentropy', metrics=['accuracy'])\n",
    "        return model\n",
    "     \n",
    "    def train(self, train_corpus, epochs=10):\n",
    "        self.model.fit(train_corpus, epochs=epochs)\n",
    "         \n",
    "    def predict(self, test_corpus):\n",
    "        return self.model.predict(test_corpus)\n",
    "     \n",
    "    def evaluate(self, test_corpus, test_labels):\n",
    "        return self.model.evaluate(test_corpus, test_labels)\n",
    "     \n",
    "    def save(self, path):\n",
    "        self.model.save(path)\n",
    "         \n",
    "    def load(self, path):\n",
    "        self.model = tf.keras.models.load_model(path)\n",
    "         \n",
    "    def generate_text(self, start_string, num_generate=1000):\n",
    "        input_eval = [self.text_corpus.index(s) for s in start_string.split()]\n",
    "        input_eval = tf.expand_dims(input_eval, 0)\n",
    "        text_generated = []\n",
    "        temperature = 1.0\n",
    "        self.model.reset_states()\n",
    "        for i in range(num_generate):\n",
    "            predictions = self.model(input_eval)\n",
    "            predictions = tf.squeeze(predictions, 0)\n",
    "            predictions = predictions / temperature\n",
    "            predicted_id = tf.random.categorical(predictions, num_samples=1)[-1,0].numpy()\n",
    "            input_eval = tf.expand_dims([predicted_id], 0)\n",
    "            text_generated.append(self.text_corpus[predicted_id])\n",
    "        return (start_string + ' '.join(text_generated))\n",
    "    \n",
    "model_LSTM = my_model_LSTM(256, text_corpus)\n",
    "model_LSTM.train(train_corpus, epochs=10)\n",
    "model_LSTM.evaluate(test_corpus, test_corpus)\n",
    "model_LSTM.save('model_LSTM.h5')\n",
    "model_LSTM.load('model_LSTM.h5')\n",
    "model_LSTM.generate_text('I', num_generate=1000)\n",
    "  "
   ]
  },
  {
   "cell_type": "code",
   "execution_count": 7,
   "metadata": {},
   "outputs": [
    {
     "ename": "TypeError",
     "evalue": "my_model_LSTM.train() missing 1 required positional argument: 'sequence_length'",
     "output_type": "error",
     "traceback": [
      "\u001b[0;31m---------------------------------------------------------------------------\u001b[0m",
      "\u001b[0;31mTypeError\u001b[0m                                 Traceback (most recent call last)",
      "Cell \u001b[0;32mIn[7], line 66\u001b[0m\n\u001b[1;32m     62\u001b[0m         \u001b[39mreturn\u001b[39;00m (start_string \u001b[39m+\u001b[39m \u001b[39m'\u001b[39m\u001b[39m \u001b[39m\u001b[39m'\u001b[39m\u001b[39m.\u001b[39mjoin(text_generated))\n\u001b[1;32m     65\u001b[0m model_LSTM \u001b[39m=\u001b[39m my_model_LSTM(\u001b[39m256\u001b[39m, text_corpus)\n\u001b[0;32m---> 66\u001b[0m model_LSTM\u001b[39m.\u001b[39;49mtrain(train_corpus, epochs\u001b[39m=\u001b[39;49m\u001b[39m10\u001b[39;49m)\n\u001b[1;32m     67\u001b[0m model_LSTM\u001b[39m.\u001b[39mevaluate(test_corpus, test_corpus)\n\u001b[1;32m     68\u001b[0m \u001b[39m##model_LSTM.save('model_LSTM.h5')\u001b[39;00m\n",
      "\u001b[0;31mTypeError\u001b[0m: my_model_LSTM.train() missing 1 required positional argument: 'sequence_length'"
     ]
    }
   ],
   "source": [
    "import tensorflow as tf\n",
    "from keras.preprocessing.text import Tokenizer\n",
    "from keras.preprocessing.sequence import pad_sequences\n",
    "from keras.layers import Embedding, LSTM, Dense\n",
    "\n",
    "class my_model_LSTM:\n",
    "    def __init__(self, n, text_corpus):\n",
    "        self.n = n\n",
    "        self.text_corpus = text_corpus\n",
    "        self.tokenizer = Tokenizer()\n",
    "        self.model = self.build_model()\n",
    "        \n",
    "    def build_model(self):\n",
    "        model = tf.keras.Sequential()\n",
    "        model.add(Embedding(input_dim=len(self.text_corpus), output_dim=self.n))\n",
    "        model.add(LSTM(units=self.n))\n",
    "        model.add(Dense(units=len(self.text_corpus), activation='softmax'))\n",
    "        model.compile(optimizer='adam', loss='sparse_categorical_crossentropy', metrics=['accuracy'])\n",
    "        return model\n",
    "     \n",
    "    def preprocess_and_tokenize(self, train_corpus):\n",
    "        self.tokenizer.fit_on_texts(train_corpus)\n",
    "        sequences = self.tokenizer.texts_to_sequences(train_corpus)\n",
    "        padded_sequences = pad_sequences(sequences, padding='post')  # You can specify the maximum sequence length here.\n",
    "        return padded_sequences\n",
    "     \n",
    "    def train(self, train_corpus, sequence_length, epochs=10):\n",
    "        padded_sequences = self.preprocess_and_tokenize(train_corpus)\n",
    "        \n",
    "        # Create input and target sequences\n",
    "        input_sequences = padded_sequences[:, :-1]\n",
    "        target_sequences = padded_sequences[:, 1:]\n",
    "        \n",
    "        self.model.fit(input_sequences, target_sequences, epochs=epochs)\n",
    "         \n",
    "    def predict(self, test_corpus):\n",
    "        padded_sequences = self.preprocess_and_tokenize(test_corpus)\n",
    "        return self.model.predict(padded_sequences)\n",
    "     \n",
    "    def evaluate(self, test_corpus, test_labels):\n",
    "        padded_sequences = self.preprocess_and_tokenize(test_corpus)\n",
    "        return self.model.evaluate(padded_sequences, test_labels)\n",
    "     \n",
    "    def save(self, path):\n",
    "        self.model.save(path)\n",
    "         \n",
    "    def load(self, path):\n",
    "        self.model = tf.keras.models.load_model(path)\n",
    "         \n",
    "    def generate_text(self, start_string, num_generate=1000):\n",
    "        input_eval = self.tokenizer.texts_to_sequences([start_string])[0]\n",
    "        text_generated = []\n",
    "        temperature = 1.0\n",
    "        self.model.reset_states()\n",
    "        for i in range(num_generate):\n",
    "            predictions = self.model(input_eval)\n",
    "            predictions = tf.squeeze(predictions, 0)\n",
    "            predictions = predictions / temperature\n",
    "            predicted_id = tf.random.categorical(predictions, num_samples=1)[-1,0].numpy()\n",
    "            input_eval = tf.expand_dims([predicted_id], 0)\n",
    "            text_generated.append(self.tokenizer.index_word[predicted_id])\n",
    "        return (start_string + ' '.join(text_generated))\n",
    "    \n",
    "    \n",
    "model_LSTM = my_model_LSTM(256, text_corpus)\n",
    "model_LSTM.train(train_corpus, epochs=10)\n",
    "model_LSTM.evaluate(test_corpus, test_corpus)\n",
    "##model_LSTM.save('model_LSTM.h5')\n",
    "model_LSTM.load('model_LSTM.h5')\n",
    "model_LSTM.generate_text('I', num_generate=1000)\n"
   ]
  }
 ],
 "metadata": {
  "kernelspec": {
   "display_name": "myenv",
   "language": "python",
   "name": "python3"
  },
  "language_info": {
   "codemirror_mode": {
    "name": "ipython",
    "version": 3
   },
   "file_extension": ".py",
   "mimetype": "text/x-python",
   "name": "python",
   "nbconvert_exporter": "python",
   "pygments_lexer": "ipython3",
   "version": "3.10.8"
  },
  "orig_nbformat": 4,
  "vscode": {
   "interpreter": {
    "hash": "bc11ff26b6a5fa7a865d8250cd70cfc7d3342e295774ddad3442a38e57bd6f20"
   }
  }
 },
 "nbformat": 4,
 "nbformat_minor": 2
}
