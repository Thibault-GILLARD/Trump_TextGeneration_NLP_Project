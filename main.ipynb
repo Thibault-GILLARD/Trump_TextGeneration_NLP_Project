{
 "cells": [
  {
   "attachments": {},
   "cell_type": "markdown",
   "metadata": {},
   "source": [
    "# LSTM for Trump text generation"
   ]
  },
  {
   "attachments": {},
   "cell_type": "markdown",
   "metadata": {},
   "source": [
    "![alt text](https://miro.medium.com/v2/resize:fit:984/1*Mb_L_slY9rjMr8-IADHvwg.png)"
   ]
  },
  {
   "attachments": {},
   "cell_type": "markdown",
   "metadata": {},
   "source": [
    "Tensorflow will be used for the integration of the LSTM model."
   ]
  },
  {
   "attachments": {},
   "cell_type": "markdown",
   "metadata": {},
   "source": [
    "## Dataset:"
   ]
  },
  {
   "cell_type": "code",
   "execution_count": 1,
   "metadata": {},
   "outputs": [],
   "source": [
    "import os\n",
    "\n",
    "path = 'Trump Rally Speeches/'\n",
    "files = os.listdir(path)\n",
    "files = [path + file for file in files]\n",
    " \n",
    "dates = []\n",
    "locations = []\n",
    "years = []\n",
    "days = []\n",
    "months = []\n",
    "speeches_text = []\n",
    " \n",
    "month_ab = ['Jan', 'Feb', 'Mar', 'Apr', 'May', 'Jun', 'Jul', 'Aug', 'Sep','Oct', 'Nov', 'Dec']\n",
    "\n",
    "for file in files:\n",
    "    for month in month_ab:\n",
    "        if month in file:\n",
    "            locations.append(file[file.find('/')+1:file.find(month)])\n",
    "            break\n",
    "    for i, mont in enumerate(month_ab):\n",
    "        if month in file:\n",
    "            date = file[file.find(month):file.find('.txt')]\n",
    "            dates.append(date)\n",
    "            months.append(date[:3])\n",
    "            days.append(str(date[3]))\n",
    "            years.append(date[-4:])\n",
    "            break   \n",
    "        \n",
    "for file in files:\n",
    "    with open(file, 'r') as f:\n",
    "        speeches_text.append(f.read())     \n",
    "        \n",
    "import pandas as pd\n",
    " \n",
    "df = pd.DataFrame({'Speech':files, 'Date':dates, 'Location':locations, 'Year':years, 'Month':months, 'Day':days, 'Speech_Text':speeches_text})"
   ]
  },
  {
   "attachments": {},
   "cell_type": "markdown",
   "metadata": {},
   "source": [
    "We will use the two preprocessing function defined in preprocessing_pipline.\n",
    "One only remove the punctuation and do lower case, the other one also remove the stop and rare words."
   ]
  },
  {
   "cell_type": "code",
   "execution_count": 2,
   "metadata": {},
   "outputs": [
    {
     "name": "stdout",
     "output_type": "stream",
     "text": [
      "thank thank thank vice president pence hes good guy weve done great job together merry christmas mic\n",
      "Thank you. Thank you. Thank you to Vice President Pence. He's a good guy. We've done a great job tog\n",
      "thank thank thank vice president pence hes good guy weve done great job together merry christmas mic\n"
     ]
    }
   ],
   "source": [
    "from preprocessing import preprocessing_pipline\n",
    "\n",
    "preprocessing = preprocessing_pipline(df['Speech_Text'])\n",
    "df['Speech_Text_prepro'] = preprocessing.preprocess_light()\n",
    "df['Speech_Text_prepro2'] = preprocessing.preprocess()\n"
   ]
  },
  {
   "attachments": {},
   "cell_type": "markdown",
   "metadata": {},
   "source": [
    "### Data \n",
    "1. Without preprocessing -> terrible results... not intresting\n",
    "2. Light preprocessing \n",
    "3. Heavy preprocessing (stop words and rare words)"
   ]
  },
  {
   "cell_type": "code",
   "execution_count": 3,
   "metadata": {},
   "outputs": [],
   "source": [
    "from sklearn.model_selection import train_test_split\n",
    "\n",
    "text_corpus = [word for speech in df['Speech_Text'].str.split() for word in speech]\n",
    "\n",
    "# Preprocess text \n",
    "text_corpus_prepro = [word for speech in df['Speech_Text_prepro'].str.split() for word in speech]\n",
    "\n",
    "text_corpus_prepro2 = [word for speech in df['Speech_Text_prepro2'].str.split() for word in speech]\n"
   ]
  },
  {
   "cell_type": "code",
   "execution_count": 4,
   "metadata": {},
   "outputs": [
    {
     "name": "stderr",
     "output_type": "stream",
     "text": [
      "2023-11-05 20:47:04.517219: I tensorflow/tsl/cuda/cudart_stub.cc:28] Could not find cuda drivers on your machine, GPU will not be used.\n",
      "2023-11-05 20:47:04.550495: E tensorflow/compiler/xla/stream_executor/cuda/cuda_dnn.cc:9342] Unable to register cuDNN factory: Attempting to register factory for plugin cuDNN when one has already been registered\n",
      "2023-11-05 20:47:04.550534: E tensorflow/compiler/xla/stream_executor/cuda/cuda_fft.cc:609] Unable to register cuFFT factory: Attempting to register factory for plugin cuFFT when one has already been registered\n",
      "2023-11-05 20:47:04.550573: E tensorflow/compiler/xla/stream_executor/cuda/cuda_blas.cc:1518] Unable to register cuBLAS factory: Attempting to register factory for plugin cuBLAS when one has already been registered\n",
      "2023-11-05 20:47:04.557812: I tensorflow/tsl/cuda/cudart_stub.cc:28] Could not find cuda drivers on your machine, GPU will not be used.\n",
      "2023-11-05 20:47:04.558691: I tensorflow/core/platform/cpu_feature_guard.cc:182] This TensorFlow binary is optimized to use available CPU instructions in performance-critical operations.\n",
      "To enable the following instructions: AVX2 FMA, in other operations, rebuild TensorFlow with the appropriate compiler flags.\n",
      "2023-11-05 20:47:05.569505: W tensorflow/compiler/tf2tensorrt/utils/py_utils.cc:38] TF-TRT Warning: Could not find TensorRT\n"
     ]
    }
   ],
   "source": [
    "from keras.preprocessing.text import Tokenizer\n",
    "from keras.preprocessing.sequence import pad_sequences\n",
    "from sklearn.model_selection import train_test_split\n",
    "import numpy as np\n",
    "\n",
    "def preprocess_for_LSTM(text_corpus, lenght_of_sequences=10, test_size=0.2):\n",
    "    tokenizer = Tokenizer()\n",
    "    tokenizer.fit_on_texts(text_corpus)\n",
    "\n",
    "    input = []\n",
    "    output = []\n",
    "\n",
    "\n",
    "    for i in range(lenght_of_sequences, len(text_corpus)):\n",
    "        input.append(text_corpus[i - lenght_of_sequences:i])\n",
    "        output.append(text_corpus[i])\n",
    "\n",
    "    input = tokenizer.texts_to_sequences(input)\n",
    "    output = tokenizer.texts_to_sequences(output)\n",
    "\n",
    "    # pad \n",
    "    input = pad_sequences(input, maxlen=lenght_of_sequences, padding='pre')\n",
    "    output = pad_sequences(output, maxlen=1, padding='pre')\n",
    "    # Convert your lists of input sequences into numpy arrays\n",
    "    \n",
    "    input = np.array(input)\n",
    "    output = np.array(output)\n",
    "\n",
    "    # Split your data into train and test sets\n",
    "    X_train, X_test, y_train, y_test = train_test_split(input, output, test_size=test_size, random_state=42)\n",
    "    \n",
    "    return X_train, X_test, y_train, y_test, tokenizer\n",
    "\n",
    " "
   ]
  },
  {
   "cell_type": "code",
   "execution_count": 6,
   "metadata": {},
   "outputs": [],
   "source": [
    "X_train, X_test, y_train, y_test, tokenizer = preprocess_for_LSTM(text_corpus_prepro, lenght_of_sequences=10, test_size=0.2)\n",
    "X_train2, X_test2, y_train2, y_test2, tokenizer2 = preprocess_for_LSTM(text_corpus_prepro2, lenght_of_sequences=10, test_size=0.2)\n"
   ]
  },
  {
   "attachments": {},
   "cell_type": "markdown",
   "metadata": {},
   "source": [
    "## The model"
   ]
  },
  {
   "cell_type": "code",
   "execution_count": 17,
   "metadata": {},
   "outputs": [],
   "source": [
    "import tensorflow as tf\n",
    "from keras.layers import Embedding, LSTM, Dense\n",
    "\n",
    "class my_model_LSTM:\n",
    "    def __init__(self, n, num_unique_words, max_sequence_length):\n",
    "        self.n = n\n",
    "        self.num_unique_words = num_unique_words\n",
    "        self.max_sequence_length = max_sequence_length\n",
    "        self.model = self.build_model()\n",
    "        \n",
    "    def build_model(self):\n",
    "        model = tf.keras.Sequential()\n",
    "        model.add(Embedding(self.num_unique_words, self.n))\n",
    "        model.add(LSTM(units=self.n))\n",
    "        model.add(Dense(units=self.num_unique_words, activation='softmax'))\n",
    "        model.compile(optimizer='adam', loss='sparse_categorical_crossentropy', metrics=['accuracy'])\n",
    "        return model\n",
    "     \n",
    "    def train(self, X_train, y_train, epochs=10):\n",
    "        self.model.fit(X_train, y_train, epochs=epochs)\n",
    "         \n",
    "    def predict(self, test_corpus):\n",
    "        return self.model.predict(test_corpus)\n",
    "     \n",
    "    def evaluate(self, X_test, y_test):\n",
    "        return self.model.evaluate(X_test, y_test)\n",
    "     \n",
    "    def save(self, path):\n",
    "        self.model.save(path)\n",
    "         \n",
    "    def load(self, path):\n",
    "        self.model = tf.keras.models.load_model(path)\n",
    "         \n",
    "    def generate_text(self, seed_text, max_length=100):\n",
    "        output_text = seed_text.split()\n",
    "        prefix = output_text[-(self.n - 1):]\n",
    "\n",
    "        for _ in range(max_length):\n",
    "            input_eval = [tokenizer.word_index[word] for word in prefix]\n",
    "            input_eval = tf.expand_dims(input_eval, 0)\n",
    "\n",
    "            predictions = self.model(input_eval)\n",
    "            predictions = tf.squeeze(predictions, 0)\n",
    "\n",
    "            if len(predictions.shape) == 1:\n",
    "                predictions = tf.expand_dims(predictions, 0)\n",
    "\n",
    "            predicted_id = tf.random.categorical(predictions, num_samples=1)[-1, 0].numpy()\n",
    "            next_word = tokenizer.index_word[predicted_id]\n",
    "\n",
    "            output_text.append(next_word)\n",
    "            prefix = prefix[1:] + [next_word]\n",
    "\n",
    "        return ' '.join(output_text)\n",
    "    def calculate_perplexity(self, X_test):\n",
    "        num_ngrams = len(X_test)\n",
    "\n",
    "        log_prob_sum = 0\n",
    "        for i in range(num_ngrams):\n",
    "            input_eval = X_test[i]\n",
    "            predictions = self.model(input_eval)\n",
    "            predicted_id = tf.argmax(predictions, axis=-1)\n",
    "            target_word = y_test[i][0]\n",
    "\n",
    "            predicted_word = tokenizer.index_word[predicted_id[0].numpy()]\n",
    "\n",
    "            context = [tokenizer.index_word[idx] for idx in input_eval[0].numpy()]\n",
    "            context_word = \" \".join(context)\n",
    "\n",
    "            if context_word in self.text_corpus:\n",
    "                word_probabilities = self.model[context_word]\n",
    "                if predicted_word in word_probabilities:\n",
    "                    word_probability = (word_probabilities.count(predicted_word) + 1) / (len(word_probabilities) + len(self.text_corpus))\n",
    "                else:\n",
    "                    word_probability = 1 / (len(word_probabilities) + len(self.text_corpus))\n",
    "            else:\n",
    "                word_probability = 1 / len(self.text_corpus)\n",
    "\n",
    "            log_prob_sum += log(word_probability)\n",
    "\n",
    "        perplexity = 2 ** (-log_prob_sum / num_ngrams)\n",
    "        return perplexity\n",
    "\n"
   ]
  },
  {
   "attachments": {},
   "cell_type": "markdown",
   "metadata": {},
   "source": [
    "### Light prepro"
   ]
  },
  {
   "cell_type": "code",
   "execution_count": 9,
   "metadata": {},
   "outputs": [
    {
     "name": "stdout",
     "output_type": "stream",
     "text": [
      "Epoch 1/10\n",
      "4720/4720 [==============================] - 40s 8ms/step - loss: 7.3433 - accuracy: 0.0138\n",
      "Epoch 2/10\n",
      "4720/4720 [==============================] - 38s 8ms/step - loss: 6.8649 - accuracy: 0.0346\n",
      "Epoch 3/10\n",
      "4720/4720 [==============================] - 38s 8ms/step - loss: 6.4422 - accuracy: 0.0670\n",
      "Epoch 4/10\n",
      "4720/4720 [==============================] - 38s 8ms/step - loss: 6.0867 - accuracy: 0.0974\n",
      "Epoch 5/10\n",
      "4720/4720 [==============================] - 38s 8ms/step - loss: 5.7880 - accuracy: 0.1219\n",
      "Epoch 6/10\n",
      "4720/4720 [==============================] - 38s 8ms/step - loss: 5.5335 - accuracy: 0.1423\n",
      "Epoch 7/10\n",
      "4720/4720 [==============================] - 38s 8ms/step - loss: 5.3117 - accuracy: 0.1590\n",
      "Epoch 8/10\n",
      "4720/4720 [==============================] - 38s 8ms/step - loss: 5.1193 - accuracy: 0.1742\n",
      "Epoch 9/10\n",
      "4720/4720 [==============================] - 38s 8ms/step - loss: 4.9500 - accuracy: 0.1892\n",
      "Epoch 10/10\n",
      "4720/4720 [==============================] - 38s 8ms/step - loss: 4.7992 - accuracy: 0.2025\n"
     ]
    }
   ],
   "source": [
    "num_unique_words = len(tokenizer.word_index) + 1\n",
    "max_sequence_length = 40\n",
    "model_LSTM = my_model_LSTM(50, num_unique_words, max_sequence_length)\n",
    "model_LSTM.train(X_train, y_train, epochs=30)"
   ]
  },
  {
   "cell_type": "code",
   "execution_count": 10,
   "metadata": {},
   "outputs": [
    {
     "name": "stderr",
     "output_type": "stream",
     "text": [
      "/workspaces/Trump_TextGeneration_NLP_Project/myenv/lib/python3.10/site-packages/keras/src/engine/training.py:3079: UserWarning: You are saving your model as an HDF5 file via `model.save()`. This file format is considered legacy. We recommend using instead the native Keras format, e.g. `model.save('my_model.keras')`.\n",
      "  saving_api.save_model(\n"
     ]
    }
   ],
   "source": [
    "model_LSTM.save('model_LSTM.h5')"
   ]
  },
  {
   "cell_type": "code",
   "execution_count": 11,
   "metadata": {},
   "outputs": [
    {
     "name": "stdout",
     "output_type": "stream",
     "text": [
      "1180/1180 [==============================] - 4s 3ms/step - loss: 6.3366 - accuracy: 0.1413\n",
      "LSTM Model Accuracy: 0.14131730794906616\n",
      "LSTM Model Loss: 6.3365678787231445\n"
     ]
    }
   ],
   "source": [
    "predictions = model_LSTM.evaluate(X_test, y_test)\n",
    "print(\"LSTM Model Accuracy:\", predictions[1])\n",
    "print(\"LSTM Model Loss:\", predictions[0])"
   ]
  },
  {
   "cell_type": "code",
   "execution_count": 20,
   "metadata": {},
   "outputs": [
    {
     "name": "stdout",
     "output_type": "stream",
     "text": [
      "france forcing major… bombing encouragement weirdest bushy witchhunt stiff solely resulting run\n"
     ]
    }
   ],
   "source": [
    "model_LSTM = my_model_LSTM(256, num_unique_words, max_sequence_length)\n",
    "model_LSTM.load('model_LSTM.h5')\n",
    "seed_text = 'france forcing'\n",
    "generated_text = model_LSTM.generate_text(seed_text, max_length=10)\n",
    "print(generated_text)"
   ]
  },
  {
   "cell_type": "code",
   "execution_count": 22,
   "metadata": {},
   "outputs": [
    {
     "name": "stdout",
     "output_type": "stream",
     "text": [
      "1180/1180 [==============================] - 4s 3ms/step - loss: 6.3366 - accuracy: 0.1413\n",
      "LSTM Model Perplexity: 564.8543321620472\n"
     ]
    }
   ],
   "source": [
    "print(\"LSTM Model Perplexity:\", np.exp(model_LSTM.evaluate(X_test, y_test)[0]))"
   ]
  },
  {
   "attachments": {},
   "cell_type": "markdown",
   "metadata": {},
   "source": [
    "dfdf"
   ]
  },
  {
   "cell_type": "code",
   "execution_count": 13,
   "metadata": {},
   "outputs": [
    {
     "name": "stdout",
     "output_type": "stream",
     "text": [
      "Epoch 1/10\n",
      "4720/4720 [==============================] - 40s 8ms/step - loss: 7.3429 - accuracy: 0.0135\n",
      "Epoch 2/10\n",
      "4720/4720 [==============================] - 38s 8ms/step - loss: 6.8608 - accuracy: 0.0341\n",
      "Epoch 3/10\n",
      "4720/4720 [==============================] - 38s 8ms/step - loss: 6.4270 - accuracy: 0.0682\n",
      "Epoch 4/10\n",
      "4720/4720 [==============================] - 38s 8ms/step - loss: 6.0692 - accuracy: 0.0996\n",
      "Epoch 5/10\n",
      "4720/4720 [==============================] - 38s 8ms/step - loss: 5.7762 - accuracy: 0.1236\n",
      "Epoch 6/10\n",
      "4720/4720 [==============================] - 38s 8ms/step - loss: 5.5242 - accuracy: 0.1427\n",
      "Epoch 7/10\n",
      "4720/4720 [==============================] - 38s 8ms/step - loss: 5.3087 - accuracy: 0.1592\n",
      "Epoch 8/10\n",
      "4720/4720 [==============================] - 38s 8ms/step - loss: 5.1182 - accuracy: 0.1749\n",
      "Epoch 9/10\n",
      "4720/4720 [==============================] - 38s 8ms/step - loss: 4.9509 - accuracy: 0.1896\n",
      "Epoch 10/10\n",
      "4720/4720 [==============================] - 38s 8ms/step - loss: 4.8012 - accuracy: 0.2016\n"
     ]
    }
   ],
   "source": [
    "num_unique_words2 = len(tokenizer2.word_index) + 1\n",
    "max_sequence_length = 40\n",
    "model_LSTM2 = my_model_LSTM(50, num_unique_words2, max_sequence_length)\n",
    "model_LSTM2.train(X_train2, y_train2, epochs=10)"
   ]
  },
  {
   "cell_type": "code",
   "execution_count": 14,
   "metadata": {},
   "outputs": [],
   "source": [
    "model_LSTM2.save('model_LSTM2.h5')"
   ]
  },
  {
   "cell_type": "code",
   "execution_count": 15,
   "metadata": {},
   "outputs": [
    {
     "name": "stdout",
     "output_type": "stream",
     "text": [
      "1180/1180 [==============================] - 4s 3ms/step - loss: 6.3292 - accuracy: 0.1426\n",
      "LSTM Model Accuracy: 0.14261500537395477\n",
      "LSTM Model Loss: 6.329217910766602\n"
     ]
    }
   ],
   "source": [
    "predictions = model_LSTM2.evaluate(X_test, y_test)\n",
    "print(\"LSTM Model Accuracy:\", predictions[1])\n",
    "print(\"LSTM Model Loss:\", predictions[0])"
   ]
  },
  {
   "cell_type": "code",
   "execution_count": 16,
   "metadata": {},
   "outputs": [
    {
     "name": "stdout",
     "output_type": "stream",
     "text": [
      "hello killing tweet franklin messed 200 talib problems 9th close tortured\n"
     ]
    }
   ],
   "source": [
    "model_LSTM2 = my_model_LSTM(256, num_unique_words, max_sequence_length)\n",
    "model_LSTM2.load('model_LSTM.h5')\n",
    "seed_text = 'hello'\n",
    "generated_text = model_LSTM2.generate_text(seed_text, max_length=30)\n",
    "print(generated_text)"
   ]
  },
  {
   "cell_type": "code",
   "execution_count": 24,
   "metadata": {},
   "outputs": [
    {
     "name": "stdout",
     "output_type": "stream",
     "text": [
      "1180/1180 [==============================] - 4s 3ms/step - loss: 6.3366 - accuracy: 0.1413\n",
      "LSTM Model Perplexity: 564.8543321620472\n"
     ]
    }
   ],
   "source": [
    "print(\"LSTM Model Perplexity:\", np.exp(model_LSTM2.evaluate(X_test, y_test)[0]))"
   ]
  },
  {
   "attachments": {},
   "cell_type": "markdown",
   "metadata": {},
   "source": [
    "## Model"
   ]
  }
 ],
 "metadata": {
  "kernelspec": {
   "display_name": "myenv",
   "language": "python",
   "name": "python3"
  },
  "language_info": {
   "codemirror_mode": {
    "name": "ipython",
    "version": 3
   },
   "file_extension": ".py",
   "mimetype": "text/x-python",
   "name": "python",
   "nbconvert_exporter": "python",
   "pygments_lexer": "ipython3",
   "version": "3.10.8"
  },
  "orig_nbformat": 4,
  "vscode": {
   "interpreter": {
    "hash": "bc11ff26b6a5fa7a865d8250cd70cfc7d3342e295774ddad3442a38e57bd6f20"
   }
  }
 },
 "nbformat": 4,
 "nbformat_minor": 2
}
