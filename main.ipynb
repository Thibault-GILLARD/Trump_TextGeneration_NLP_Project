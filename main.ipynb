{
 "cells": [
  {
   "attachments": {},
   "cell_type": "markdown",
   "metadata": {},
   "source": [
    "# LSTM for Trump text generation"
   ]
  },
  {
   "attachments": {},
   "cell_type": "markdown",
   "metadata": {},
   "source": [
    "![alt text](https://miro.medium.com/v2/resize:fit:984/1*Mb_L_slY9rjMr8-IADHvwg.png)"
   ]
  },
  {
   "attachments": {},
   "cell_type": "markdown",
   "metadata": {},
   "source": [
    "Tensorflow will be used for the integration of the LSTM model."
   ]
  },
  {
   "attachments": {},
   "cell_type": "markdown",
   "metadata": {},
   "source": [
    "## Dataset:"
   ]
  },
  {
   "cell_type": "code",
   "execution_count": 1,
   "metadata": {},
   "outputs": [],
   "source": [
    "import os\n",
    "\n",
    "path = 'Trump Rally Speeches/'\n",
    "files = os.listdir(path)\n",
    "files = [path + file for file in files]\n",
    " \n",
    "dates = []\n",
    "locations = []\n",
    "years = []\n",
    "days = []\n",
    "months = []\n",
    "speeches_text = []\n",
    " \n",
    "month_ab = ['Jan', 'Feb', 'Mar', 'Apr', 'May', 'Jun', 'Jul', 'Aug', 'Sep','Oct', 'Nov', 'Dec']\n",
    "\n",
    "for file in files:\n",
    "    for month in month_ab:\n",
    "        if month in file:\n",
    "            locations.append(file[file.find('/')+1:file.find(month)])\n",
    "            break\n",
    "    for i, mont in enumerate(month_ab):\n",
    "        if month in file:\n",
    "            date = file[file.find(month):file.find('.txt')]\n",
    "            dates.append(date)\n",
    "            months.append(date[:3])\n",
    "            days.append(str(date[3]))\n",
    "            years.append(date[-4:])\n",
    "            break   \n",
    "        \n",
    "for file in files:\n",
    "    with open(file, 'r') as f:\n",
    "        speeches_text.append(f.read())     \n",
    "        \n",
    "import pandas as pd\n",
    " \n",
    "df = pd.DataFrame({'Speech':files, 'Date':dates, 'Location':locations, 'Year':years, 'Month':months, 'Day':days, 'Speech_Text':speeches_text})"
   ]
  },
  {
   "cell_type": "code",
   "execution_count": 2,
   "metadata": {},
   "outputs": [
    {
     "name": "stdout",
     "output_type": "stream",
     "text": [
      "thank thank thank vice president pence hes good guy weve done great job together merry christmas mic\n",
      "Thank you. Thank you. Thank you to Vice President Pence. He's a good guy. We've done a great job tog\n",
      "thank thank thank vice president pence hes good guy weve done great job together merry christmas mic\n"
     ]
    }
   ],
   "source": [
    "from preprocessing import preprocessing_pipline\n",
    "\n",
    "preprocessing = preprocessing_pipline(df['Speech_Text'])\n",
    "df['Speech_Text_prepro'] = preprocessing.preprocess_light()"
   ]
  },
  {
   "cell_type": "code",
   "execution_count": 3,
   "metadata": {},
   "outputs": [],
   "source": [
    "from sklearn.model_selection import train_test_split\n",
    "\n",
    "text_corpus = [word for speech in df['Speech_Text'].str.split() for word in speech]\n",
    "train_corpus, test_corpus = train_test_split(text_corpus, test_size=0.2, random_state=42)\n",
    "\n",
    "# Preprocess text \n",
    "text_corpus_prepro = [word for speech in df['Speech_Text_prepro'].str.split() for word in speech]\n",
    "train_corpus_prepro, test_corpus_prepro = train_test_split(text_corpus_prepro, test_size=0.2, random_state=42)"
   ]
  },
  {
   "cell_type": "code",
   "execution_count": 5,
   "metadata": {},
   "outputs": [],
   "source": [
    "from keras.preprocessing.text import Tokenizer\n",
    "\n",
    "# Create a tokenizer and fit it on your text corpus\n",
    "tokenizer = Tokenizer()\n",
    "tokenizer.fit_on_texts(text_corpus)\n",
    "\n",
    "input = []\n",
    "output = []\n",
    "\n",
    "lenght_of_sequences = 10\n",
    "\n",
    "for i in range(lenght_of_sequences, len(train_corpus)):\n",
    "    input.append(train_corpus[i-lenght_of_sequences:i])\n",
    "    output.append(train_corpus[i])\n",
    "\n",
    "input = tokenizer.texts_to_sequences(input)\n",
    "\n",
    "# pad \n",
    "from keras.preprocessing.sequence import pad_sequences\n",
    "input = pad_sequences(input, maxlen=lenght_of_sequences, padding='pre')\n",
    " \n",
    "# Convert your lists of input sequences into numpy arrays\n",
    "import numpy as np\n",
    " \n",
    "input = np.array(input)\n",
    "output = np.array(output)\n",
    "\n",
    "from sklearn.model_selection import train_test_split\n",
    "\n",
    "# Split your data into train and test sets\n",
    "X_train, X_test, y_train, y_test = train_test_split(input, output, test_size=0.2, random_state=42)\n",
    " "
   ]
  },
  {
   "cell_type": "code",
   "execution_count": 6,
   "metadata": {},
   "outputs": [],
   "source": [
    "import tensorflow as tf\n",
    "from keras.layers import Embedding, LSTM, Dense\n",
    "\n",
    "class my_model_LSTM:\n",
    "    def __init__(self, n, num_unique_words, max_sequence_length):\n",
    "        self.n = n\n",
    "        self.num_unique_words = num_unique_words\n",
    "        self.max_sequence_length = max_sequence_length\n",
    "        self.model = self.build_model()\n",
    "        \n",
    "    def build_model(self):\n",
    "        model = tf.keras.Sequential()\n",
    "        model.add(Embedding(self.num_unique_words, self.n))\n",
    "        model.add(LSTM(units=self.n))\n",
    "        model.add(Dense(units=self.num_unique_words, activation='softmax'))\n",
    "        model.compile(optimizer='adam', loss='sparse_categorical_crossentropy', metrics=['accuracy'])\n",
    "        return model\n",
    "     \n",
    "    def train(self, X_train, y_train, epochs=10):\n",
    "        self.model.fit(X_train, y_train, epochs=epochs)\n",
    "         \n",
    "    def predict(self, test_corpus):\n",
    "        return self.model.predict(test_corpus)\n",
    "     \n",
    "    def evaluate(self, X_test, y_test):\n",
    "        return self.model.evaluate(X_test, y_test)\n",
    "     \n",
    "    def save(self, path):\n",
    "        self.model.save(path)\n",
    "         \n",
    "    def load(self, path):\n",
    "        self.model = tf.keras.models.load_model(path)\n",
    "         \n",
    "    def generate_text(self, start_string, num_generate=1000):\n",
    "        input_eval = [self.text_corpus.index(s) for s in start_string.split()]\n",
    "        input_eval = tf.expand_dims(input_eval, 0)\n",
    "        text_generated = []\n",
    "        temperature = 1.0\n",
    "        self.model.reset_states()\n",
    "        for i in range(num_generate):\n",
    "            predictions = self.model(input_eval)\n",
    "            predictions = tf.squeeze(predictions, 0)\n",
    "            predictions = predictions / temperature\n",
    "            predicted_id = tf.random.categorical(predictions, num_samples=1)[-1,0].numpy()\n",
    "            input_eval = tf.expand_dims([predicted_id], 0)\n",
    "            text_generated.append(self.text_corpus[predicted_id])\n",
    "        return (start_string + ' '.join(text_generated))\n"
   ]
  },
  {
   "cell_type": "code",
   "execution_count": null,
   "metadata": {},
   "outputs": [],
   "source": [
    "num_unique_words = len(tokenizer.word_index) + 1\n",
    "max_sequence_length = len(input[0])\n",
    "model_LSTM = my_model_LSTM(256, num_unique_words, max_sequence_length)\n",
    "model_LSTM.train(X_train, y_train, epochs=10)"
   ]
  },
  {
   "attachments": {},
   "cell_type": "markdown",
   "metadata": {},
   "source": [
    "## Model"
   ]
  },
  {
   "cell_type": "code",
   "execution_count": 9,
   "metadata": {},
   "outputs": [
    {
     "ename": "",
     "evalue": "",
     "output_type": "error",
     "traceback": [
      "\u001b[1;31mCanceled future for execute_request message before replies were done"
     ]
    },
    {
     "ename": "",
     "evalue": "",
     "output_type": "error",
     "traceback": [
      "\u001b[1;31mThe Kernel crashed while executing code in the the current cell or a previous cell. Please review the code in the cell(s) to identify a possible cause of the failure. Click <a href='https://aka.ms/vscodeJupyterKernelCrash'>here</a> for more info. View Jupyter <a href='command:jupyter.viewOutput'>log</a> for further details."
     ]
    }
   ],
   "source": [
    "# import for LSTM \n",
    "import tensorflow as tf\n",
    "import numpy as np\n",
    "from keras.layers import Embedding, LSTM, Dense\n",
    "\n",
    "class my_model_LSTM:\n",
    "    def __init__(self, n, text_corpus):\n",
    "        self.n = n \n",
    "        self.text_corpus = text_corpus\n",
    "        self.model = self.build_model()\n",
    "        \n",
    "    def build_model(self):\n",
    "        model = tf.keras.Sequential()\n",
    "        model.add(Embedding(len(self.text_corpus),self.n))\n",
    "        model.add(LSTM(units=self.n))\n",
    "        model.add(Dense(units=len(self.text_corpus), activation='softmax'))\n",
    "        model.compile(optimizer='adam', loss='sparse_categorical_crossentropy', metrics=['accuracy'])\n",
    "        return model\n",
    "     \n",
    "    def train(self, train_corpus, epochs=10):\n",
    "        self.model.fit(train_corpus, epochs=epochs)\n",
    "         \n",
    "    def predict(self, test_corpus):\n",
    "        return self.model.predict(test_corpus)\n",
    "     \n",
    "    def evaluate(self, test_corpus, test_labels):\n",
    "        return self.model.evaluate(test_corpus, test_labels)\n",
    "     \n",
    "    def save(self, path):\n",
    "        self.model.save(path)\n",
    "         \n",
    "    def load(self, path):\n",
    "        self.model = tf.keras.models.load_model(path)\n",
    "         \n",
    "    def generate_text(self, start_string, num_generate=1000):\n",
    "        input_eval = [self.text_corpus.index(s) for s in start_string.split()]\n",
    "        input_eval = tf.expand_dims(input_eval, 0)\n",
    "        text_generated = []\n",
    "        temperature = 1.0\n",
    "        self.model.reset_states()\n",
    "        for i in range(num_generate):\n",
    "            predictions = self.model(input_eval)\n",
    "            predictions = tf.squeeze(predictions, 0)\n",
    "            predictions = predictions / temperature\n",
    "            predicted_id = tf.random.categorical(predictions, num_samples=1)[-1,0].numpy()\n",
    "            input_eval = tf.expand_dims([predicted_id], 0)\n",
    "            text_generated.append(self.text_corpus[predicted_id])\n",
    "        return (start_string + ' '.join(text_generated))\n",
    "    \n",
    "model_LSTM = my_model_LSTM(256, text_corpus)\n",
    "model_LSTM.train(train_corpus, epochs=10)\n",
    "model_LSTM.evaluate(test_corpus, test_corpus)\n",
    "model_LSTM.save('model_LSTM.h5')\n",
    "model_LSTM.load('model_LSTM.h5')\n",
    "model_LSTM.generate_text('I', num_generate=1000)\n",
    "  "
   ]
  }
 ],
 "metadata": {
  "kernelspec": {
   "display_name": "base",
   "language": "python",
   "name": "python3"
  },
  "language_info": {
   "codemirror_mode": {
    "name": "ipython",
    "version": 3
   },
   "file_extension": ".py",
   "mimetype": "text/x-python",
   "name": "python",
   "nbconvert_exporter": "python",
   "pygments_lexer": "ipython3",
   "version": "3.9.13"
  },
  "orig_nbformat": 4,
  "vscode": {
   "interpreter": {
    "hash": "262f45c2f7c4647a52b21fdf148897939a0a772c971848ae3fddd645c697c1d3"
   }
  }
 },
 "nbformat": 4,
 "nbformat_minor": 2
}
